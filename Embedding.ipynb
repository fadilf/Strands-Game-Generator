{
 "cells": [
  {
   "cell_type": "code",
   "execution_count": 1,
   "metadata": {},
   "outputs": [
    {
     "name": "stderr",
     "output_type": "stream",
     "text": [
      "c:\\Projects\\Personal\\Strands-Game-Generator\\.venv\\Lib\\site-packages\\tqdm\\auto.py:21: TqdmWarning: IProgress not found. Please update jupyter and ipywidgets. See https://ipywidgets.readthedocs.io/en/stable/user_install.html\n",
      "  from .autonotebook import tqdm as notebook_tqdm\n"
     ]
    }
   ],
   "source": [
    "from FlagEmbedding import FlagModel\n",
    "import pickle\n",
    "from scipy.spatial import KDTree\n",
    "import random\n",
    "import numpy as np"
   ]
  },
  {
   "cell_type": "code",
   "execution_count": 2,
   "metadata": {},
   "outputs": [],
   "source": [
    "def generate_n_cont_set(word, n):\n",
    "    n_letters_word = set()\n",
    "    for i in range(len(word) - n + 1):\n",
    "        n_letters_word.add(word[i:i+n])\n",
    "    return n_letters_word"
   ]
  },
  {
   "cell_type": "code",
   "execution_count": 3,
   "metadata": {},
   "outputs": [],
   "source": [
    "def shares_n_cont_letters(a: str, b: str, n: int):\n",
    "    n_letters_a = set()\n",
    "    for i in range(len(a) - n + 1):\n",
    "        n_letters_a.add(a[i:i+n])\n",
    "\n",
    "    for i in range(len(b) - n + 1):\n",
    "        if b[i:i+n] in n_letters_a:\n",
    "            return True\n",
    "    return False"
   ]
  },
  {
   "cell_type": "code",
   "execution_count": 4,
   "metadata": {},
   "outputs": [],
   "source": [
    "def rotate_grid(grid):\n",
    "    return [[tuple(item) for item in row] for row in np.rot90(np.array(grid))]"
   ]
  },
  {
   "cell_type": "code",
   "execution_count": 5,
   "metadata": {},
   "outputs": [],
   "source": [
    "model = FlagModel('BAAI/bge-small-en-v1.5',\n",
    "                  query_instruction_for_retrieval=\"Generate a representation for this word for retrieving related words:\",\n",
    "                  use_fp16=True)"
   ]
  },
  {
   "cell_type": "code",
   "execution_count": 6,
   "metadata": {},
   "outputs": [],
   "source": [
    "with open(\"google-10000-english-no-swears.txt\") as f:\n",
    "    all_words = f.readlines()"
   ]
  },
  {
   "cell_type": "code",
   "execution_count": 7,
   "metadata": {},
   "outputs": [
    {
     "data": {
      "text/plain": [
       "9894"
      ]
     },
     "execution_count": 7,
     "metadata": {},
     "output_type": "execute_result"
    }
   ],
   "source": [
    "len(all_words)"
   ]
  },
  {
   "cell_type": "code",
   "execution_count": 57,
   "metadata": {},
   "outputs": [],
   "source": [
    "words = []\n",
    "for word in all_words:\n",
    "    word_filtered = word.strip()\n",
    "    if len(word_filtered) > 3:\n",
    "        words.append(word_filtered)"
   ]
  },
  {
   "cell_type": "code",
   "execution_count": 20,
   "metadata": {},
   "outputs": [
    {
     "name": "stderr",
     "output_type": "stream",
     "text": [
      "Inference Embeddings: 100%|██████████| 35/35 [00:10<00:00,  3.30it/s]\n"
     ]
    }
   ],
   "source": [
    "embeddings = model.encode(words)"
   ]
  },
  {
   "cell_type": "code",
   "execution_count": 9,
   "metadata": {},
   "outputs": [],
   "source": [
    "lens = {}\n",
    "for word in words:\n",
    "    word_len = len(word)\n",
    "    if word_len not in lens:\n",
    "        lens[word_len] = 1\n",
    "    else:\n",
    "        lens[word_len] += 1"
   ]
  },
  {
   "cell_type": "code",
   "execution_count": 10,
   "metadata": {},
   "outputs": [
    {
     "data": {
      "text/plain": [
       "{4: 1100,\n",
       " 5: 1367,\n",
       " 6: 1491,\n",
       " 11: 374,\n",
       " 7: 1449,\n",
       " 8: 1157,\n",
       " 9: 904,\n",
       " 10: 608,\n",
       " 13: 101,\n",
       " 12: 207,\n",
       " 14: 39,\n",
       " 15: 10,\n",
       " 18: 1,\n",
       " 16: 2}"
      ]
     },
     "execution_count": 10,
     "metadata": {},
     "output_type": "execute_result"
    }
   ],
   "source": [
    "lens"
   ]
  },
  {
   "cell_type": "code",
   "execution_count": 11,
   "metadata": {},
   "outputs": [],
   "source": [
    "# with open(\"embeddings.pkl\", \"wb+\") as f:\n",
    "#     pickle.dump(embeddings, f)\n",
    "with open(\"embeddings.pkl\", \"rb\") as f:\n",
    "    embeddings = pickle.load(f)"
   ]
  },
  {
   "cell_type": "code",
   "execution_count": 12,
   "metadata": {},
   "outputs": [
    {
     "data": {
      "text/plain": [
       "(8810, 384)"
      ]
     },
     "execution_count": 12,
     "metadata": {},
     "output_type": "execute_result"
    }
   ],
   "source": [
    "embeddings.shape"
   ]
  },
  {
   "cell_type": "code",
   "execution_count": 13,
   "metadata": {},
   "outputs": [],
   "source": [
    "tree = KDTree(embeddings)"
   ]
  },
  {
   "cell_type": "code",
   "execution_count": 14,
   "metadata": {},
   "outputs": [],
   "source": [
    "query = \"Photography\""
   ]
  },
  {
   "cell_type": "code",
   "execution_count": 15,
   "metadata": {},
   "outputs": [],
   "source": [
    "query_embedding = model.encode(query)"
   ]
  },
  {
   "cell_type": "code",
   "execution_count": 16,
   "metadata": {},
   "outputs": [],
   "source": [
    "# Get the 1000 most relevant words/phrases\n",
    "dd, ii = tree.query(query_embedding, k=1000)"
   ]
  },
  {
   "cell_type": "code",
   "execution_count": 21,
   "metadata": {},
   "outputs": [],
   "source": [
    "# Choose pangrammables\n",
    "pangrammable = []\n",
    "for i in ii:\n",
    "    candidate = words[i].strip()\n",
    "    candidate_alpha_only = \"\".join([char for char in candidate if char.isalpha()])\n",
    "    if 6 <= len(candidate_alpha_only) <= 13:\n",
    "        pangrammable.append(candidate)"
   ]
  },
  {
   "cell_type": "code",
   "execution_count": 23,
   "metadata": {},
   "outputs": [
    {
     "data": {
      "text/plain": [
       "'artwork'"
      ]
     },
     "execution_count": 23,
     "metadata": {},
     "output_type": "execute_result"
    }
   ],
   "source": [
    "pangram = random.choice(pangrammable[:100])\n",
    "pangram"
   ]
  },
  {
   "cell_type": "code",
   "execution_count": 24,
   "metadata": {},
   "outputs": [],
   "source": [
    "subembeddings = [embeddings[i] for i in ii]\n",
    "subwords = [words[i] for i in ii]\n",
    "subtree = KDTree(subembeddings)"
   ]
  },
  {
   "cell_type": "code",
   "execution_count": 83,
   "metadata": {},
   "outputs": [],
   "source": [
    "# Get words/phrases the most relevant to pangram\n",
    "ddd, iii = subtree.query(model.encode(pangram), k=250)"
   ]
  },
  {
   "cell_type": "code",
   "execution_count": 84,
   "metadata": {},
   "outputs": [],
   "source": [
    "candidates: list[str] = []\n",
    "n = 4\n",
    "candidate_n_cont_pool: set[str] = set()\n",
    "for i in iii:\n",
    "    word = subwords[i].strip().lower()\n",
    "    word_set = generate_n_cont_set(word, n)\n",
    "    unique = True\n",
    "    for item in word_set:\n",
    "        if item in candidate_n_cont_pool:\n",
    "            unique = False\n",
    "            break\n",
    "    if unique:\n",
    "        candidates.append(word)\n",
    "        candidate_n_cont_pool.update(word_set)"
   ]
  },
  {
   "cell_type": "code",
   "execution_count": 85,
   "metadata": {},
   "outputs": [
    {
     "data": {
      "text/plain": [
       "['artwork',\n",
       " 'paintings',\n",
       " 'artist',\n",
       " 'illustrations',\n",
       " 'graphic',\n",
       " 'images',\n",
       " 'drawing',\n",
       " 'gallery',\n",
       " 'design',\n",
       " 'arts',\n",
       " 'framed',\n",
       " 'logos',\n",
       " 'posters',\n",
       " 'decor',\n",
       " 'canvas',\n",
       " 'sculpture',\n",
       " 'prints',\n",
       " 'wallpaper',\n",
       " 'architectural',\n",
       " 'portraits',\n",
       " 'piece',\n",
       " 'visual',\n",
       " 'surfaces',\n",
       " 'reproduced',\n",
       " 'rendered',\n",
       " 'creativity',\n",
       " 'album',\n",
       " 'displaying',\n",
       " 'tattoo',\n",
       " 'poem',\n",
       " 'styles',\n",
       " 'beautiful',\n",
       " 'impression',\n",
       " 'exhibit',\n",
       " 'flowers',\n",
       " 'landscapes',\n",
       " 'template',\n",
       " 'craft',\n",
       " 'poetry',\n",
       " 'backgrounds',\n",
       " 'animated',\n",
       " 'texts',\n",
       " 'samples',\n",
       " 'copyright',\n",
       " 'cards',\n",
       " 'eyes',\n",
       " 'pencil',\n",
       " 'screen',\n",
       " 'labels',\n",
       " 'scenes',\n",
       " 'deck',\n",
       " 'exterior',\n",
       " 'showcase',\n",
       " 'markers',\n",
       " 'pens',\n",
       " 'colours',\n",
       " 'pose',\n",
       " 'assets',\n",
       " 'looks',\n",
       " 'content',\n",
       " 'photo',\n",
       " 'museum',\n",
       " 'cover',\n",
       " 'studio',\n",
       " 'correspondence',\n",
       " 'front',\n",
       " 'music',\n",
       " 'mounted',\n",
       " 'plots',\n",
       " 'appearance',\n",
       " 'objects',\n",
       " 'slides',\n",
       " 'conceptual',\n",
       " 'acrylic',\n",
       " 'bodies',\n",
       " 'verse',\n",
       " 'posing',\n",
       " 'inspired',\n",
       " 'page',\n",
       " 'rocks',\n",
       " 'collected',\n",
       " 'love',\n",
       " 'thumbnail',\n",
       " 'document',\n",
       " 'perspective',\n",
       " 'adobe',\n",
       " 'anatomy',\n",
       " 'table',\n",
       " 'columns',\n",
       " 'gorgeous',\n",
       " 'glow',\n",
       " 'heart',\n",
       " 'book',\n",
       " 'shape',\n",
       " 'legs',\n",
       " 'soul',\n",
       " 'scanned',\n",
       " 'marble',\n",
       " 'lamps',\n",
       " 'skin',\n",
       " 'excerpt',\n",
       " 'floral',\n",
       " 'handmade',\n",
       " 'journal',\n",
       " 'rows',\n",
       " 'views',\n",
       " 'identify',\n",
       " 'side',\n",
       " 'lines',\n",
       " 'multimedia',\n",
       " 'wood',\n",
       " 'body',\n",
       " 'song',\n",
       " 'tissue',\n",
       " 'beam',\n",
       " 'terrain',\n",
       " 'form',\n",
       " 'hobby',\n",
       " 'shade',\n",
       " 'garden',\n",
       " 'corner',\n",
       " 'titled',\n",
       " 'pixels',\n",
       " 'detailed',\n",
       " 'cosmetic',\n",
       " 'mind',\n",
       " 'lips',\n",
       " 'head',\n",
       " 'facial',\n",
       " 'resource']"
      ]
     },
     "execution_count": 85,
     "metadata": {},
     "output_type": "execute_result"
    }
   ],
   "source": [
    "candidates"
   ]
  },
  {
   "cell_type": "code",
   "execution_count": 86,
   "metadata": {},
   "outputs": [],
   "source": [
    "# Separate the candidates into plain words and phrases\n",
    "plain_words = []\n",
    "phrases = []\n",
    "for candidate in candidates:\n",
    "    if len(candidate) <= 3:\n",
    "        continue\n",
    "    if candidate.isalpha():\n",
    "        plain_words.append(candidate)\n",
    "    else:\n",
    "        phrases.append(candidate)"
   ]
  },
  {
   "cell_type": "code",
   "execution_count": 87,
   "metadata": {},
   "outputs": [],
   "source": [
    "plain_lengths = [len(plain_word) for plain_word in plain_words]"
   ]
  },
  {
   "cell_type": "code",
   "execution_count": 88,
   "metadata": {},
   "outputs": [
    {
     "data": {
      "text/plain": [
       "'artwork'"
      ]
     },
     "execution_count": 88,
     "metadata": {},
     "output_type": "execute_result"
    }
   ],
   "source": [
    "pangram = \"\".join([char for char in pangram if char.isalpha()])\n",
    "pangram"
   ]
  },
  {
   "cell_type": "code",
   "execution_count": 89,
   "metadata": {},
   "outputs": [
    {
     "data": {
      "text/plain": [
       "10"
      ]
     },
     "execution_count": 89,
     "metadata": {},
     "output_type": "execute_result"
    }
   ],
   "source": [
    "max_words = (48 - len(pangram))//4\n",
    "max_words"
   ]
  },
  {
   "cell_type": "code",
   "execution_count": 90,
   "metadata": {},
   "outputs": [],
   "source": [
    "num_words = random.choice(list(range(6, max_words + 1)))"
   ]
  },
  {
   "cell_type": "code",
   "execution_count": 91,
   "metadata": {},
   "outputs": [
    {
     "data": {
      "text/plain": [
       "6"
      ]
     },
     "execution_count": 91,
     "metadata": {},
     "output_type": "execute_result"
    }
   ],
   "source": [
    "num_words"
   ]
  },
  {
   "cell_type": "code",
   "execution_count": 92,
   "metadata": {},
   "outputs": [],
   "source": [
    "budget = 48 - len(pangram)"
   ]
  },
  {
   "cell_type": "code",
   "execution_count": 93,
   "metadata": {},
   "outputs": [],
   "source": [
    "chosen = []\n",
    "plain_lengths_cpy = plain_lengths[:]\n",
    "while sum(chosen) != budget:\n",
    "    remaining = budget - sum(chosen)\n",
    "    if sum(chosen) < budget:\n",
    "        if remaining in plain_lengths_cpy:\n",
    "            chosen.append(remaining)\n",
    "            break\n",
    "        else:\n",
    "            new_chosen = random.choice(plain_lengths_cpy)\n",
    "            plain_lengths_cpy.remove(new_chosen)\n",
    "            chosen.append(new_chosen)\n",
    "    elif sum(chosen) > budget:\n",
    "        if (-remaining) in chosen:\n",
    "            chosen.remove(-remaining)\n",
    "            break\n",
    "        else:\n",
    "            for i in range(random.choice([1,1,1,2,2,3])):\n",
    "                to_remove = random.choice(chosen)\n",
    "                chosen.remove(to_remove)\n",
    "                plain_lengths_cpy.append(to_remove)\n"
   ]
  },
  {
   "cell_type": "code",
   "execution_count": 94,
   "metadata": {},
   "outputs": [
    {
     "data": {
      "text/plain": [
       "[6, 5, 6, 5, 4, 7, 8]"
      ]
     },
     "execution_count": 94,
     "metadata": {},
     "output_type": "execute_result"
    }
   ],
   "source": [
    "chosen"
   ]
  },
  {
   "cell_type": "code",
   "execution_count": 143,
   "metadata": {},
   "outputs": [],
   "source": [
    "word_lens: dict[int, list[str]] = {}\n",
    "for word in plain_words:\n",
    "    word_len = len(word)\n",
    "    if word_len not in word_lens:\n",
    "        word_lens[word_len] = [word]\n",
    "    else:\n",
    "        word_lens[word_len].append(word)\n",
    "\n",
    "chosen_words = [pangram]\n",
    "for length in chosen:\n",
    "    chosen_word = random.choice(word_lens[length])\n",
    "    word_lens[length].remove(chosen_word)\n",
    "    chosen_words.append(chosen_word)"
   ]
  },
  {
   "cell_type": "code",
   "execution_count": 144,
   "metadata": {},
   "outputs": [
    {
     "data": {
      "text/plain": [
       "['artwork',\n",
       " 'tattoo',\n",
       " 'texts',\n",
       " 'garden',\n",
       " 'front',\n",
       " 'poem',\n",
       " 'mounted',\n",
       " 'cosmetic']"
      ]
     },
     "execution_count": 144,
     "metadata": {},
     "output_type": "execute_result"
    }
   ],
   "source": [
    "chosen_words"
   ]
  },
  {
   "cell_type": "code",
   "execution_count": 145,
   "metadata": {},
   "outputs": [],
   "source": [
    "if len(pangram) < 8:\n",
    "    pangram_direction = \"ltr\"\n",
    "else:\n",
    "    pangram_direction = random.choice([\"ltr\", \"ttb\"])"
   ]
  },
  {
   "cell_type": "code",
   "execution_count": 146,
   "metadata": {},
   "outputs": [
    {
     "data": {
      "text/plain": [
       "'ltr'"
      ]
     },
     "execution_count": 146,
     "metadata": {},
     "output_type": "execute_result"
    }
   ],
   "source": [
    "pangram_direction"
   ]
  },
  {
   "cell_type": "code",
   "execution_count": 147,
   "metadata": {},
   "outputs": [],
   "source": [
    "# METHOD 1\n",
    "# grid = []\n",
    "# for i in range(8):\n",
    "#     row = []\n",
    "#     for j in range(6):\n",
    "#         row.append((i,j))\n",
    "#     grid.append(row)\n",
    "\n",
    "# if pangram_direction == \"ttb\":\n",
    "#     grid = rotate_grid(grid)\n",
    "# coord_lst = grid.pop(0)\n",
    "# while len(grid) > 0:\n",
    "#     grid = rotate_grid(grid)\n",
    "#     coord_lst.extend(grid.pop(0))"
   ]
  },
  {
   "cell_type": "code",
   "execution_count": 201,
   "metadata": {},
   "outputs": [],
   "source": [
    "# METHOD 2\n",
    "grid = []\n",
    "for i in range(8):\n",
    "    row = []\n",
    "    for j in range(6):\n",
    "        row.append((i,j))\n",
    "    grid.append(row)\n",
    "\n",
    "if pangram_direction == \"ttb\":\n",
    "    grid = rotate_grid(grid)\n",
    "coord_lst = grid.pop(0)\n",
    "row = 1\n",
    "while len(grid) > 0:\n",
    "    if row % 2 == 0:\n",
    "        coord_lst.extend(grid.pop(0))\n",
    "    else:\n",
    "        coord_lst.extend(reversed(grid.pop(0)))\n",
    "    row += 1\n",
    "\n",
    "if random.choice([True, False]):\n",
    "    coord_lst.reverse()"
   ]
  },
  {
   "cell_type": "code",
   "execution_count": 202,
   "metadata": {},
   "outputs": [],
   "source": [
    "coords: list[list[tuple[int,int]]] = []\n",
    "\n",
    "for word in chosen_words:\n",
    "    word_coords = []\n",
    "    for char in word:\n",
    "        word_coords.append(coord_lst.pop(0))\n",
    "    if random.choice([True, False]):\n",
    "        coords.append(word_coords)\n",
    "    else:\n",
    "        coords.append(list(reversed(word_coords)))"
   ]
  },
  {
   "cell_type": "code",
   "execution_count": 203,
   "metadata": {},
   "outputs": [],
   "source": [
    "def get_word_letter_idx(coords, letter_coords, words):\n",
    "    for word_idx, word_coords in enumerate(coords):\n",
    "        if letter_coords in word_coords:\n",
    "            letter_idx = word_coords.index(letter_coords)\n",
    "            word = words[word_idx]\n",
    "            letter = word[letter_idx]\n",
    "            return letter_idx, letter, word_idx, word"
   ]
  },
  {
   "cell_type": "code",
   "execution_count": 204,
   "metadata": {},
   "outputs": [],
   "source": [
    "def check_word_continuity(word_coords:list[list[tuple[int,int]]]):\n",
    "    for coords_a, coords_b in zip(word_coords[:-1], word_coords[1:]):\n",
    "        if abs(coords_a[0] - coords_b[0]) > 1 or abs(coords_a[1] - coords_b[1]) > 1:\n",
    "            return False\n",
    "    return True"
   ]
  },
  {
   "cell_type": "code",
   "execution_count": 205,
   "metadata": {},
   "outputs": [],
   "source": [
    "# METHOD 1\n",
    "# def pangram_valid(word_coords:list[list[tuple[int,int]]], direction: str):\n",
    "#     first, last = word_coords[0], word_coords[-1]\n",
    "#     if direction == \"ltr\":\n",
    "#         return first[1] == 0 and last[1] == 5\n",
    "#     else:\n",
    "#         return first[0] == 0 and last[0] == 7\n",
    "\n",
    "# METHOD 2\n",
    "def pangram_valid(word_coords:list[tuple[int,int]], direction: str):\n",
    "    if direction == \"ltr\":\n",
    "        return 0 in [coord[1] for coord in word_coords] and 5 in [coord[1] for coord in word_coords]\n",
    "    else:\n",
    "        return 0 in [coord[0] for coord in word_coords] and 7 in [coord[0] for coord in word_coords]"
   ]
  },
  {
   "cell_type": "code",
   "execution_count": 206,
   "metadata": {},
   "outputs": [],
   "source": [
    "def shuffle_grid(letter_coords, words, n):\n",
    "    letter_coords_cpy = [word[:] for word in letter_coords]\n",
    "    shuffles = 0\n",
    "\n",
    "    while shuffles < n:\n",
    "        a_coord = random.randint(0, 7), random.randint(0, 5)\n",
    "        a_letter_idx, a_letter, a_word_idx, a_word = get_word_letter_idx(letter_coords_cpy, a_coord, words)\n",
    "\n",
    "        b_candidate_coords = []\n",
    "        for i in range(-1,2):\n",
    "            row = a_coord[0] + i\n",
    "            if row < 0 or row >= 8:\n",
    "                continue\n",
    "            for j in range(-1,2):\n",
    "                col = a_coord[1] + j\n",
    "                if col < 0 or col >= 6 or a_coord == (row, col):\n",
    "                    continue\n",
    "\n",
    "                b_candidate_coords.append((row, col))\n",
    "        \n",
    "        random.shuffle(b_candidate_coords)\n",
    "        for b_coord in b_candidate_coords:\n",
    "            b_letter_idx, b_letter, b_word_idx, b_word = get_word_letter_idx(letter_coords_cpy, b_coord, chosen_words)\n",
    "            if a_word_idx == b_word_idx:\n",
    "                possible_word_coords = [item[:] for item in letter_coords_cpy[a_word_idx]]\n",
    "                possible_word_coords[a_letter_idx] = b_coord\n",
    "                possible_word_coords[b_letter_idx] = a_coord\n",
    "                if a_word_idx == 0 and not pangram_valid(possible_word_coords, pangram_direction):\n",
    "                    continue\n",
    "                if check_word_continuity(possible_word_coords):\n",
    "                    letter_coords_cpy[a_word_idx] = possible_word_coords\n",
    "                    # print(f\"swapping: {a_coord, b_coord} in same word\")\n",
    "                    shuffles += 1\n",
    "                    break\n",
    "            else:\n",
    "                possible_a_word_coords = letter_coords_cpy[a_word_idx][:]\n",
    "                possible_a_word_coords[a_letter_idx] = b_coord\n",
    "\n",
    "                possible_b_word_coords = letter_coords_cpy[b_word_idx][:]\n",
    "                possible_b_word_coords[b_letter_idx] = a_coord\n",
    "\n",
    "                if a_word_idx == 0 and not pangram_valid(possible_a_word_coords, pangram_direction):\n",
    "                    continue\n",
    "\n",
    "                if b_word_idx == 0 and not pangram_valid(possible_b_word_coords, pangram_direction):\n",
    "                    continue\n",
    "\n",
    "                if check_word_continuity(possible_a_word_coords) and check_word_continuity(possible_b_word_coords):\n",
    "                    letter_coords_cpy[a_word_idx] = possible_a_word_coords\n",
    "                    letter_coords_cpy[b_word_idx] = possible_b_word_coords\n",
    "                    # print(f\"swapping: {a_coord, b_coord} in different words\")\n",
    "                    shuffles += 1\n",
    "                    break\n",
    "    return letter_coords_cpy"
   ]
  },
  {
   "cell_type": "code",
   "execution_count": 207,
   "metadata": {},
   "outputs": [],
   "source": [
    "new_letter_coords = shuffle_grid(coords, chosen_words, 100000)"
   ]
  },
  {
   "cell_type": "code",
   "execution_count": 208,
   "metadata": {},
   "outputs": [],
   "source": [
    "grid = [[\"\" for col in range(6)] for row in range(8)]\n",
    "for word_coords, word in zip(new_letter_coords, chosen_words):\n",
    "    for letter_coord, letter in zip(word_coords, word):\n",
    "        grid[letter_coord[0]][letter_coord[1]] = letter"
   ]
  },
  {
   "cell_type": "code",
   "execution_count": 209,
   "metadata": {},
   "outputs": [
    {
     "data": {
      "text/plain": [
       "[['f', 'o', 'n', 'c', 'i', 'e'],\n",
       " ['m', 'r', 'u', 't', 't', 'm'],\n",
       " ['o', 'd', 'e', 'n', 'o', 's'],\n",
       " ['n', 'd', 'e', 'c', 'x', 'e'],\n",
       " ['t', 'r', 'a', 'g', 't', 't'],\n",
       " ['t', 'a', 't', 'p', 's', 'e'],\n",
       " ['o', 'o', 't', 'o', 'o', 'm'],\n",
       " ['a', 'r', 't', 'w', 'r', 'k']]"
      ]
     },
     "execution_count": 209,
     "metadata": {},
     "output_type": "execute_result"
    }
   ],
   "source": [
    "grid"
   ]
  },
  {
   "cell_type": "code",
   "execution_count": 210,
   "metadata": {},
   "outputs": [
    {
     "name": "stdout",
     "output_type": "stream",
     "text": [
      "f  o  n  c  i  e\n",
      "\n",
      "m  r  u  t  t  m\n",
      "\n",
      "o  d  e  n  o  s\n",
      "\n",
      "n  d  e  c  x  e\n",
      "\n",
      "t  r  a  g  t  t\n",
      "\n",
      "t  a  t  p  s  e\n",
      "\n",
      "o  o  t  o  o  m\n",
      "\n",
      "a  r  t  w  r  k\n"
     ]
    }
   ],
   "source": [
    "print(\"\\n\\n\".join([\"  \".join(row) for row in grid]))"
   ]
  },
  {
   "cell_type": "code",
   "execution_count": 211,
   "metadata": {},
   "outputs": [
    {
     "data": {
      "text/plain": [
       "['artwork',\n",
       " 'tattoo',\n",
       " 'texts',\n",
       " 'garden',\n",
       " 'front',\n",
       " 'poem',\n",
       " 'mounted',\n",
       " 'cosmetic']"
      ]
     },
     "execution_count": 211,
     "metadata": {},
     "output_type": "execute_result"
    }
   ],
   "source": [
    "chosen_words"
   ]
  },
  {
   "cell_type": "code",
   "execution_count": 160,
   "metadata": {},
   "outputs": [
    {
     "data": {
      "text/plain": [
       "'artwork'"
      ]
     },
     "execution_count": 160,
     "metadata": {},
     "output_type": "execute_result"
    }
   ],
   "source": [
    "pangram"
   ]
  },
  {
   "cell_type": "code",
   "execution_count": 161,
   "metadata": {},
   "outputs": [
    {
     "data": {
      "text/plain": [
       "'ltr'"
      ]
     },
     "execution_count": 161,
     "metadata": {},
     "output_type": "execute_result"
    }
   ],
   "source": [
    "pangram_direction"
   ]
  }
 ],
 "metadata": {
  "kernelspec": {
   "display_name": ".venv",
   "language": "python",
   "name": "python3"
  },
  "language_info": {
   "codemirror_mode": {
    "name": "ipython",
    "version": 3
   },
   "file_extension": ".py",
   "mimetype": "text/x-python",
   "name": "python",
   "nbconvert_exporter": "python",
   "pygments_lexer": "ipython3",
   "version": "3.11.4"
  }
 },
 "nbformat": 4,
 "nbformat_minor": 2
}
